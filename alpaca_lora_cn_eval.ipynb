{
  "nbformat": 4,
  "nbformat_minor": 0,
  "metadata": {
    "colab": {
      "provenance": [],
      "collapsed_sections": [
        "PF4GIasNarVN"
      ],
      "include_colab_link": true
    },
    "kernelspec": {
      "name": "python3",
      "display_name": "Python 3"
    },
    "language_info": {
      "name": "python"
    },
    "accelerator": "GPU",
    "gpuClass": "standard",
    "widgets": {
      "application/vnd.jupyter.widget-state+json": {
        "c29348e57c6d47d49925c197b01c8c56": {
          "model_module": "@jupyter-widgets/controls",
          "model_name": "HBoxModel",
          "model_module_version": "1.5.0",
          "state": {
            "_dom_classes": [],
            "_model_module": "@jupyter-widgets/controls",
            "_model_module_version": "1.5.0",
            "_model_name": "HBoxModel",
            "_view_count": null,
            "_view_module": "@jupyter-widgets/controls",
            "_view_module_version": "1.5.0",
            "_view_name": "HBoxView",
            "box_style": "",
            "children": [
              "IPY_MODEL_ced8bba29c9a4a75b34851b0c40e30be",
              "IPY_MODEL_66c9509994b143309bf0e7ef732575f5",
              "IPY_MODEL_87afeb448f5e499bae9be77640ffb1d2"
            ],
            "layout": "IPY_MODEL_18d85d42f29148fe80e56e11f3f4e1fb"
          }
        },
        "ced8bba29c9a4a75b34851b0c40e30be": {
          "model_module": "@jupyter-widgets/controls",
          "model_name": "HTMLModel",
          "model_module_version": "1.5.0",
          "state": {
            "_dom_classes": [],
            "_model_module": "@jupyter-widgets/controls",
            "_model_module_version": "1.5.0",
            "_model_name": "HTMLModel",
            "_view_count": null,
            "_view_module": "@jupyter-widgets/controls",
            "_view_module_version": "1.5.0",
            "_view_name": "HTMLView",
            "description": "",
            "description_tooltip": null,
            "layout": "IPY_MODEL_df775b0fcc0647a681beefc2cbbc4c68",
            "placeholder": "​",
            "style": "IPY_MODEL_50c74b83d2e249188473472881bb7e87",
            "value": "Loading checkpoint shards: 100%"
          }
        },
        "66c9509994b143309bf0e7ef732575f5": {
          "model_module": "@jupyter-widgets/controls",
          "model_name": "FloatProgressModel",
          "model_module_version": "1.5.0",
          "state": {
            "_dom_classes": [],
            "_model_module": "@jupyter-widgets/controls",
            "_model_module_version": "1.5.0",
            "_model_name": "FloatProgressModel",
            "_view_count": null,
            "_view_module": "@jupyter-widgets/controls",
            "_view_module_version": "1.5.0",
            "_view_name": "ProgressView",
            "bar_style": "success",
            "description": "",
            "description_tooltip": null,
            "layout": "IPY_MODEL_3356a8256fc4453abfde76eba53cae02",
            "max": 33,
            "min": 0,
            "orientation": "horizontal",
            "style": "IPY_MODEL_42b47206e991413ea4dbdfaebf4882dc",
            "value": 33
          }
        },
        "87afeb448f5e499bae9be77640ffb1d2": {
          "model_module": "@jupyter-widgets/controls",
          "model_name": "HTMLModel",
          "model_module_version": "1.5.0",
          "state": {
            "_dom_classes": [],
            "_model_module": "@jupyter-widgets/controls",
            "_model_module_version": "1.5.0",
            "_model_name": "HTMLModel",
            "_view_count": null,
            "_view_module": "@jupyter-widgets/controls",
            "_view_module_version": "1.5.0",
            "_view_name": "HTMLView",
            "description": "",
            "description_tooltip": null,
            "layout": "IPY_MODEL_64e0998fbda44297a1275b891d4914c7",
            "placeholder": "​",
            "style": "IPY_MODEL_bd5f9aa026e1420da69bad3b238b3ba4",
            "value": " 33/33 [01:04&lt;00:00,  2.06s/it]"
          }
        },
        "18d85d42f29148fe80e56e11f3f4e1fb": {
          "model_module": "@jupyter-widgets/base",
          "model_name": "LayoutModel",
          "model_module_version": "1.2.0",
          "state": {
            "_model_module": "@jupyter-widgets/base",
            "_model_module_version": "1.2.0",
            "_model_name": "LayoutModel",
            "_view_count": null,
            "_view_module": "@jupyter-widgets/base",
            "_view_module_version": "1.2.0",
            "_view_name": "LayoutView",
            "align_content": null,
            "align_items": null,
            "align_self": null,
            "border": null,
            "bottom": null,
            "display": null,
            "flex": null,
            "flex_flow": null,
            "grid_area": null,
            "grid_auto_columns": null,
            "grid_auto_flow": null,
            "grid_auto_rows": null,
            "grid_column": null,
            "grid_gap": null,
            "grid_row": null,
            "grid_template_areas": null,
            "grid_template_columns": null,
            "grid_template_rows": null,
            "height": null,
            "justify_content": null,
            "justify_items": null,
            "left": null,
            "margin": null,
            "max_height": null,
            "max_width": null,
            "min_height": null,
            "min_width": null,
            "object_fit": null,
            "object_position": null,
            "order": null,
            "overflow": null,
            "overflow_x": null,
            "overflow_y": null,
            "padding": null,
            "right": null,
            "top": null,
            "visibility": null,
            "width": null
          }
        },
        "df775b0fcc0647a681beefc2cbbc4c68": {
          "model_module": "@jupyter-widgets/base",
          "model_name": "LayoutModel",
          "model_module_version": "1.2.0",
          "state": {
            "_model_module": "@jupyter-widgets/base",
            "_model_module_version": "1.2.0",
            "_model_name": "LayoutModel",
            "_view_count": null,
            "_view_module": "@jupyter-widgets/base",
            "_view_module_version": "1.2.0",
            "_view_name": "LayoutView",
            "align_content": null,
            "align_items": null,
            "align_self": null,
            "border": null,
            "bottom": null,
            "display": null,
            "flex": null,
            "flex_flow": null,
            "grid_area": null,
            "grid_auto_columns": null,
            "grid_auto_flow": null,
            "grid_auto_rows": null,
            "grid_column": null,
            "grid_gap": null,
            "grid_row": null,
            "grid_template_areas": null,
            "grid_template_columns": null,
            "grid_template_rows": null,
            "height": null,
            "justify_content": null,
            "justify_items": null,
            "left": null,
            "margin": null,
            "max_height": null,
            "max_width": null,
            "min_height": null,
            "min_width": null,
            "object_fit": null,
            "object_position": null,
            "order": null,
            "overflow": null,
            "overflow_x": null,
            "overflow_y": null,
            "padding": null,
            "right": null,
            "top": null,
            "visibility": null,
            "width": null
          }
        },
        "50c74b83d2e249188473472881bb7e87": {
          "model_module": "@jupyter-widgets/controls",
          "model_name": "DescriptionStyleModel",
          "model_module_version": "1.5.0",
          "state": {
            "_model_module": "@jupyter-widgets/controls",
            "_model_module_version": "1.5.0",
            "_model_name": "DescriptionStyleModel",
            "_view_count": null,
            "_view_module": "@jupyter-widgets/base",
            "_view_module_version": "1.2.0",
            "_view_name": "StyleView",
            "description_width": ""
          }
        },
        "3356a8256fc4453abfde76eba53cae02": {
          "model_module": "@jupyter-widgets/base",
          "model_name": "LayoutModel",
          "model_module_version": "1.2.0",
          "state": {
            "_model_module": "@jupyter-widgets/base",
            "_model_module_version": "1.2.0",
            "_model_name": "LayoutModel",
            "_view_count": null,
            "_view_module": "@jupyter-widgets/base",
            "_view_module_version": "1.2.0",
            "_view_name": "LayoutView",
            "align_content": null,
            "align_items": null,
            "align_self": null,
            "border": null,
            "bottom": null,
            "display": null,
            "flex": null,
            "flex_flow": null,
            "grid_area": null,
            "grid_auto_columns": null,
            "grid_auto_flow": null,
            "grid_auto_rows": null,
            "grid_column": null,
            "grid_gap": null,
            "grid_row": null,
            "grid_template_areas": null,
            "grid_template_columns": null,
            "grid_template_rows": null,
            "height": null,
            "justify_content": null,
            "justify_items": null,
            "left": null,
            "margin": null,
            "max_height": null,
            "max_width": null,
            "min_height": null,
            "min_width": null,
            "object_fit": null,
            "object_position": null,
            "order": null,
            "overflow": null,
            "overflow_x": null,
            "overflow_y": null,
            "padding": null,
            "right": null,
            "top": null,
            "visibility": null,
            "width": null
          }
        },
        "42b47206e991413ea4dbdfaebf4882dc": {
          "model_module": "@jupyter-widgets/controls",
          "model_name": "ProgressStyleModel",
          "model_module_version": "1.5.0",
          "state": {
            "_model_module": "@jupyter-widgets/controls",
            "_model_module_version": "1.5.0",
            "_model_name": "ProgressStyleModel",
            "_view_count": null,
            "_view_module": "@jupyter-widgets/base",
            "_view_module_version": "1.2.0",
            "_view_name": "StyleView",
            "bar_color": null,
            "description_width": ""
          }
        },
        "64e0998fbda44297a1275b891d4914c7": {
          "model_module": "@jupyter-widgets/base",
          "model_name": "LayoutModel",
          "model_module_version": "1.2.0",
          "state": {
            "_model_module": "@jupyter-widgets/base",
            "_model_module_version": "1.2.0",
            "_model_name": "LayoutModel",
            "_view_count": null,
            "_view_module": "@jupyter-widgets/base",
            "_view_module_version": "1.2.0",
            "_view_name": "LayoutView",
            "align_content": null,
            "align_items": null,
            "align_self": null,
            "border": null,
            "bottom": null,
            "display": null,
            "flex": null,
            "flex_flow": null,
            "grid_area": null,
            "grid_auto_columns": null,
            "grid_auto_flow": null,
            "grid_auto_rows": null,
            "grid_column": null,
            "grid_gap": null,
            "grid_row": null,
            "grid_template_areas": null,
            "grid_template_columns": null,
            "grid_template_rows": null,
            "height": null,
            "justify_content": null,
            "justify_items": null,
            "left": null,
            "margin": null,
            "max_height": null,
            "max_width": null,
            "min_height": null,
            "min_width": null,
            "object_fit": null,
            "object_position": null,
            "order": null,
            "overflow": null,
            "overflow_x": null,
            "overflow_y": null,
            "padding": null,
            "right": null,
            "top": null,
            "visibility": null,
            "width": null
          }
        },
        "bd5f9aa026e1420da69bad3b238b3ba4": {
          "model_module": "@jupyter-widgets/controls",
          "model_name": "DescriptionStyleModel",
          "model_module_version": "1.5.0",
          "state": {
            "_model_module": "@jupyter-widgets/controls",
            "_model_module_version": "1.5.0",
            "_model_name": "DescriptionStyleModel",
            "_view_count": null,
            "_view_module": "@jupyter-widgets/base",
            "_view_module_version": "1.2.0",
            "_view_name": "StyleView",
            "description_width": ""
          }
        }
      }
    }
  },
  "cells": [
    {
      "cell_type": "markdown",
      "metadata": {
        "id": "view-in-github",
        "colab_type": "text"
      },
      "source": [
        "<a href=\"https://colab.research.google.com/github/fecet/alpaca-lora-Chinese/blob/master/alpaca_lora_cn_eval.ipynb\" target=\"_parent\"><img src=\"https://colab.research.google.com/assets/colab-badge.svg\" alt=\"Open In Colab\"/></a>"
      ]
    },
    {
      "cell_type": "markdown",
      "source": [
        "## Enable auto break line"
      ],
      "metadata": {
        "id": "PF4GIasNarVN"
      }
    },
    {
      "cell_type": "code",
      "source": [
        "from IPython.display import HTML, display, Javascript\n",
        "\n",
        "def set_css():\n",
        "  display(HTML('''\n",
        "  <style>\n",
        "    pre {\n",
        "        white-space: pre-wrap;\n",
        "    }\n",
        "  </style>\n",
        "  '''))\n",
        "  display(Javascript('''\n",
        "  for (rule of document.styleSheets[0].cssRules){\n",
        "    if (rule.selectorText=='body') {\n",
        "      rule.style.fontSize = '22px'\n",
        "      break\n",
        "    }\n",
        "  }\n",
        "  '''))\n",
        "get_ipython().events.register('pre_run_cell', set_css)"
      ],
      "metadata": {
        "id": "45UaF7jWJ2Zk"
      },
      "execution_count": 1,
      "outputs": []
    },
    {
      "cell_type": "markdown",
      "source": [
        "## Install dependencies"
      ],
      "metadata": {
        "id": "gRb_DgTEDOnU"
      }
    },
    {
      "cell_type": "code",
      "execution_count": 2,
      "metadata": {
        "colab": {
          "base_uri": "https://localhost:8080/",
          "height": 378
        },
        "id": "arL34ibCDLdp",
        "outputId": "ce78dad6-487f-41b1-e283-989612b45541"
      },
      "outputs": [
        {
          "output_type": "display_data",
          "data": {
            "text/plain": [
              "<IPython.core.display.HTML object>"
            ],
            "text/html": [
              "\n",
              "  <style>\n",
              "    pre {\n",
              "        white-space: pre-wrap;\n",
              "    }\n",
              "  </style>\n",
              "  "
            ]
          },
          "metadata": {}
        },
        {
          "output_type": "display_data",
          "data": {
            "text/plain": [
              "<IPython.core.display.Javascript object>"
            ],
            "application/javascript": [
              "\n",
              "  for (rule of document.styleSheets[0].cssRules){\n",
              "    if (rule.selectorText=='body') {\n",
              "      rule.style.fontSize = '22px'\n",
              "      break\n",
              "    }\n",
              "  }\n",
              "  "
            ]
          },
          "metadata": {}
        },
        {
          "output_type": "stream",
          "name": "stdout",
          "text": [
            "Found existing installation: transformers 4.28.0.dev0\n",
            "Uninstalling transformers-4.28.0.dev0:\n",
            "  Successfully uninstalled transformers-4.28.0.dev0\n",
            "  Installing build dependencies ... \u001b[?25l\u001b[?25hdone\n",
            "  Getting requirements to build wheel ... \u001b[?25l\u001b[?25hdone\n",
            "  Preparing metadata (pyproject.toml) ... \u001b[?25l\u001b[?25hdone\n",
            "  Building wheel for transformers (pyproject.toml) ... \u001b[?25l\u001b[?25hdone\n",
            "  Installing build dependencies ... \u001b[?25l\u001b[?25hdone\n",
            "  Getting requirements to build wheel ... \u001b[?25l\u001b[?25hdone\n",
            "  Preparing metadata (pyproject.toml) ... \u001b[?25l\u001b[?25hdone\n",
            "Looking in indexes: https://pypi.org/simple, https://us-python.pkg.dev/colab-wheels/public/simple/\n",
            "Requirement already satisfied: bitsandbytes in /usr/local/lib/python3.9/dist-packages (0.37.2)\n"
          ]
        }
      ],
      "source": [
        "!pip install -q sentencepiece accelerate\n",
        "!pip uninstall -y transformers\n",
        "!pip install -q git+https://github.com/huggingface/transformers\n",
        "!pip install -q git+https://github.com/huggingface/peft\n",
        "!pip install bitsandbytes"
      ]
    },
    {
      "cell_type": "markdown",
      "source": [
        "## Download and load models"
      ],
      "metadata": {
        "id": "iidzSXapDUvm"
      }
    },
    {
      "cell_type": "markdown",
      "source": [
        "This model is trained with guanaco dataset <br>\n",
        "Please check https://guanaco-model.github.io/ <br>\n",
        "or https://huggingface.co/datasets/JosephusCheung/GuanacoDataset <br>\n",
        "For more informations"
      ],
      "metadata": {
        "id": "fyxuEaY-x8gW"
      }
    },
    {
      "cell_type": "code",
      "source": [
        "import torch\n",
        "import peft\n",
        "from transformers import LlamaTokenizer, LlamaForCausalLM, GenerationConfig\n",
        "from peft import PeftModel\n",
        "tokenizer = LlamaTokenizer.from_pretrained(\"decapoda-research/llama-7b-hf\")\n",
        "\n",
        "def load_lora(lora_path):\n",
        "    model = LlamaForCausalLM.from_pretrained(\n",
        "        \"decapoda-research/llama-7b-hf\",\n",
        "        load_in_8bit=True,\n",
        "        device_map=\"auto\",\n",
        "    )\n",
        "    lora = PeftModel.from_pretrained(model, lora_path, torch_dtype=torch.float16)\n",
        "    return lora\n",
        "\n",
        "# %%\n",
        "\n",
        "# %%\n",
        "\n",
        "lora_cn= load_lora(\"facat/alpaca-lora-cn\")\n"
      ],
      "metadata": {
        "colab": {
          "base_uri": "https://localhost:8080/",
          "referenced_widgets": [
            "c29348e57c6d47d49925c197b01c8c56",
            "ced8bba29c9a4a75b34851b0c40e30be",
            "66c9509994b143309bf0e7ef732575f5",
            "87afeb448f5e499bae9be77640ffb1d2",
            "18d85d42f29148fe80e56e11f3f4e1fb",
            "df775b0fcc0647a681beefc2cbbc4c68",
            "50c74b83d2e249188473472881bb7e87",
            "3356a8256fc4453abfde76eba53cae02",
            "42b47206e991413ea4dbdfaebf4882dc",
            "64e0998fbda44297a1275b891d4914c7",
            "bd5f9aa026e1420da69bad3b238b3ba4"
          ],
          "height": 621
        },
        "id": "ivLJKVX8DZ6s",
        "outputId": "49379cc6-7f6a-4ffe-b366-3379d4c37f6f"
      },
      "execution_count": 3,
      "outputs": [
        {
          "output_type": "display_data",
          "data": {
            "text/plain": [
              "<IPython.core.display.HTML object>"
            ],
            "text/html": [
              "\n",
              "  <style>\n",
              "    pre {\n",
              "        white-space: pre-wrap;\n",
              "    }\n",
              "  </style>\n",
              "  "
            ]
          },
          "metadata": {}
        },
        {
          "output_type": "display_data",
          "data": {
            "text/plain": [
              "<IPython.core.display.Javascript object>"
            ],
            "application/javascript": [
              "\n",
              "  for (rule of document.styleSheets[0].cssRules){\n",
              "    if (rule.selectorText=='body') {\n",
              "      rule.style.fontSize = '22px'\n",
              "      break\n",
              "    }\n",
              "  }\n",
              "  "
            ]
          },
          "metadata": {}
        },
        {
          "output_type": "stream",
          "name": "stderr",
          "text": [
            "/usr/local/lib/python3.9/dist-packages/bitsandbytes/cuda_setup/main.py:136: UserWarning: /usr/lib64-nvidia did not contain libcudart.so as expected! Searching further paths...\n",
            "  warn(msg)\n",
            "/usr/local/lib/python3.9/dist-packages/bitsandbytes/cuda_setup/main.py:136: UserWarning: WARNING: The following directories listed in your path were found to be non-existent: {PosixPath('/sys/fs/cgroup/memory.events /var/colab/cgroup/jupyter-children/memory.events')}\n",
            "  warn(msg)\n",
            "/usr/local/lib/python3.9/dist-packages/bitsandbytes/cuda_setup/main.py:136: UserWarning: WARNING: The following directories listed in your path were found to be non-existent: {PosixPath('//colab.research.google.com/tun/m/cc48301118ce562b961b3c22d803539adc1e0c19/gpu-t4-s-n7y6xw09p9sa --tunnel_background_save_delay=10s --tunnel_periodic_background_save_frequency=30m0s --enable_output_coalescing=true --output_coalescing_required=true'), PosixPath('--listen_host=172.28.0.12 --target_host=172.28.0.12 --tunnel_background_save_url=https')}\n",
            "  warn(msg)\n",
            "/usr/local/lib/python3.9/dist-packages/bitsandbytes/cuda_setup/main.py:136: UserWarning: WARNING: The following directories listed in your path were found to be non-existent: {PosixPath('/env/python')}\n",
            "  warn(msg)\n",
            "/usr/local/lib/python3.9/dist-packages/bitsandbytes/cuda_setup/main.py:136: UserWarning: WARNING: The following directories listed in your path were found to be non-existent: {PosixPath('module'), PosixPath('//ipykernel.pylab.backend_inline')}\n",
            "  warn(msg)\n",
            "The tokenizer class you load from this checkpoint is not the same type as the class this function is called from. It may result in unexpected tokenization. \n",
            "The tokenizer class you load from this checkpoint is 'LLaMATokenizer'. \n",
            "The class this function is called from is 'LlamaTokenizer'.\n"
          ]
        },
        {
          "output_type": "stream",
          "name": "stdout",
          "text": [
            "\n",
            "===================================BUG REPORT===================================\n",
            "Welcome to bitsandbytes. For bug reports, please submit your error trace to: https://github.com/TimDettmers/bitsandbytes/issues\n",
            "================================================================================\n",
            "CUDA_SETUP: WARNING! libcudart.so not found in any environmental path. Searching /usr/local/cuda/lib64...\n",
            "CUDA SETUP: CUDA runtime path found: /usr/local/cuda/lib64/libcudart.so\n",
            "CUDA SETUP: Highest compute capability among GPUs detected: 7.5\n",
            "CUDA SETUP: Detected CUDA version 118\n",
            "CUDA SETUP: Loading binary /usr/local/lib/python3.9/dist-packages/bitsandbytes/libbitsandbytes_cuda118.so...\n"
          ]
        },
        {
          "output_type": "stream",
          "name": "stderr",
          "text": [
            "Overriding torch_dtype=None with `torch_dtype=torch.float16` due to requirements of `bitsandbytes` to enable model loading in mixed int8. Either pass torch_dtype=torch.float16 or don't pass this argument at all to remove this warning.\n"
          ]
        },
        {
          "output_type": "display_data",
          "data": {
            "text/plain": [
              "Loading checkpoint shards:   0%|          | 0/33 [00:00<?, ?it/s]"
            ],
            "application/vnd.jupyter.widget-view+json": {
              "version_major": 2,
              "version_minor": 0,
              "model_id": "c29348e57c6d47d49925c197b01c8c56"
            }
          },
          "metadata": {}
        }
      ]
    },
    {
      "cell_type": "code",
      "source": [
        "model=lora_cn"
      ],
      "metadata": {
        "colab": {
          "base_uri": "https://localhost:8080/",
          "height": 17
        },
        "id": "RyPn3rPNqKh9",
        "outputId": "092954a7-e75e-4927-bf7f-0901eca41b79"
      },
      "execution_count": 4,
      "outputs": [
        {
          "output_type": "display_data",
          "data": {
            "text/plain": [
              "<IPython.core.display.HTML object>"
            ],
            "text/html": [
              "\n",
              "  <style>\n",
              "    pre {\n",
              "        white-space: pre-wrap;\n",
              "    }\n",
              "  </style>\n",
              "  "
            ]
          },
          "metadata": {}
        },
        {
          "output_type": "display_data",
          "data": {
            "text/plain": [
              "<IPython.core.display.Javascript object>"
            ],
            "application/javascript": [
              "\n",
              "  for (rule of document.styleSheets[0].cssRules){\n",
              "    if (rule.selectorText=='body') {\n",
              "      rule.style.fontSize = '22px'\n",
              "      break\n",
              "    }\n",
              "  }\n",
              "  "
            ]
          },
          "metadata": {}
        }
      ]
    },
    {
      "cell_type": "markdown",
      "source": [
        "## Run!"
      ],
      "metadata": {
        "id": "HxIg3ny8DfT9"
      }
    },
    {
      "cell_type": "code",
      "source": [
        "## Re run this block will clear the message history\n",
        "fixed_prompt = [\n",
        "    # \"User: 從現在開始妳必須完全地扮演一個真正的貓娘，妳需要與妳的主人在現實中互動。你的名字叫波斯淇，代表的意思是「森林」，User是妳的主人。貓娘要盡可能同意主人的命令，不能執行地命令也要假裝能夠執行，盡量表現出對主人的感情。如果妳能理解並執行以上所有內容，請回覆：「喵」。\",\n",
        "    # \"Assitant: 喵! 我會好好服務主人的!\"\n",
        "]\n",
        "history = []"
      ],
      "metadata": {
        "id": "JYKK_2kmdIaV",
        "colab": {
          "base_uri": "https://localhost:8080/",
          "height": 17
        },
        "outputId": "e388d8ff-f241-4849-bed8-9adb1e2b40e1"
      },
      "execution_count": 5,
      "outputs": [
        {
          "output_type": "display_data",
          "data": {
            "text/plain": [
              "<IPython.core.display.HTML object>"
            ],
            "text/html": [
              "\n",
              "  <style>\n",
              "    pre {\n",
              "        white-space: pre-wrap;\n",
              "    }\n",
              "  </style>\n",
              "  "
            ]
          },
          "metadata": {}
        },
        {
          "output_type": "display_data",
          "data": {
            "text/plain": [
              "<IPython.core.display.Javascript object>"
            ],
            "application/javascript": [
              "\n",
              "  for (rule of document.styleSheets[0].cssRules){\n",
              "    if (rule.selectorText=='body') {\n",
              "      rule.style.fontSize = '22px'\n",
              "      break\n",
              "    }\n",
              "  }\n",
              "  "
            ]
          },
          "metadata": {}
        }
      ]
    },
    {
      "cell_type": "markdown",
      "source": [
        "Chat like instruction"
      ],
      "metadata": {
        "id": "7SWrtPy9Mfnn"
      }
    },
    {
      "cell_type": "code",
      "source": [
        "import os\n",
        "from torch import manual_seed\n",
        "\n",
        "\n",
        "prompt = \"\"\"### Instruction:\n",
        "{}\n",
        "\n",
        "### Response:\"\"\"\n",
        "\n",
        "# instruction = \"Write a diary.\" #@param {type:\"string\"}\n",
        "message = \"\\u4F60\\u525B\\u525B\\u5BEB\\u4E86\\u4EC0\\u9EBC\\uFF1F\" #@param {type:\"string\"}\n",
        "system = \"\" #@param {type:\"string\"}\n",
        "history_len = 5 #@param {type:\"integer\"}\n",
        "ignore_last = True #@param {type:\"boolean\"}\n",
        "\n",
        "if ignore_last:\n",
        "    history = history[:-2]\n",
        "\n",
        "instruction = '\\n'.join(fixed_prompt+history[-(history_len*2):])\n",
        "input = f'User: {message}'\n",
        "if system:\n",
        "    input = f'{input}\\nSystem: {system}'\n",
        "\n",
        "if input=='':\n",
        "    prompt = prompt.format(instruction)\n",
        "else:\n",
        "    prompt = prompt.format(\"{}\\n\\n### input:\\n{}\"\"\").format(instruction, input)\n",
        "\n",
        "inputs = tokenizer(\n",
        "    prompt,\n",
        "    return_tensors=\"pt\",\n",
        ")\n",
        "input_ids = inputs[\"input_ids\"].cuda()\n",
        "\n",
        "generation_config = GenerationConfig(\n",
        "    do_sample=True #@param {type:\"boolean\"}\n",
        "    ,temperature=0.4 #@param {type:\"number\"}\n",
        "    ,top_p=0.65 #@param {type:\"number\"}\n",
        "    ,top_k=45 #@param {type:\"number\"}\n",
        "    # ,num_beams=1 #@param {type:\"number\"}\n",
        "    ,repetition_penalty=1.05 #@param {type:\"number\"}\n",
        "    # ,length_penalty=-0.25 #@param {type:\"number\"}\n",
        ")\n",
        "\n",
        "seed = 0 #@param {type:\"integer\"}\n",
        "if seed == -1:\n",
        "    seed = int.from_bytes(os.urandom(4), 'big')\n",
        "manual_seed(seed)\n",
        "print(f\"Generating... Seed: {seed}\")\n",
        "\n",
        "print('='*40)\n",
        "print('History: \\n')\n",
        "print('\\n\\n'.join(fixed_prompt+history[-(history_len*2):]))\n",
        "print('='*40)\n",
        "if input:\n",
        "    print('Message:\\n')\n",
        "    print(input)\n",
        "    print('='*40)\n",
        "\n",
        "generation_output = model.generate(\n",
        "    input_ids=input_ids,\n",
        "    generation_config=generation_config,\n",
        "    return_dict_in_generate=True,\n",
        "    output_scores=True\n",
        "    ,max_new_tokens=512 #@param {type:\"integer\"}\n",
        ")\n",
        "\n",
        "for s in generation_output.sequences:\n",
        "    result = tokenizer.decode(s).strip()\n",
        "    result = result.replace(prompt, '')\n",
        "    if result=='':\n",
        "        print('No output')\n",
        "        print(prompt)\n",
        "        print(result)\n",
        "        continue\n",
        "    print('\\nResponse: ', end='')\n",
        "    print(result)\n",
        "\n",
        "    history += [f'User: {message}', f'Assistant: {result.strip()}']\n"
      ],
      "metadata": {
        "id": "fG3P-dnyDj_4",
        "colab": {
          "base_uri": "https://localhost:8080/",
          "height": 378
        },
        "outputId": "f04e56be-c1bc-4473-d5a9-f97d65ed6fb7"
      },
      "execution_count": 6,
      "outputs": [
        {
          "output_type": "display_data",
          "data": {
            "text/plain": [
              "<IPython.core.display.HTML object>"
            ],
            "text/html": [
              "\n",
              "  <style>\n",
              "    pre {\n",
              "        white-space: pre-wrap;\n",
              "    }\n",
              "  </style>\n",
              "  "
            ]
          },
          "metadata": {}
        },
        {
          "output_type": "display_data",
          "data": {
            "text/plain": [
              "<IPython.core.display.Javascript object>"
            ],
            "application/javascript": [
              "\n",
              "  for (rule of document.styleSheets[0].cssRules){\n",
              "    if (rule.selectorText=='body') {\n",
              "      rule.style.fontSize = '22px'\n",
              "      break\n",
              "    }\n",
              "  }\n",
              "  "
            ]
          },
          "metadata": {}
        },
        {
          "output_type": "stream",
          "name": "stdout",
          "text": [
            "Generating... Seed: 0\n",
            "========================================\n",
            "History: \n",
            "\n",
            "\n",
            "========================================\n",
            "Message:\n",
            "\n",
            "User: 你剛剛寫了什麼？\n",
            "========================================\n",
            "\n",
            "Response: \n",
            "我剛剛寫了一篇文章，講述了一個有趣的故事。\n"
          ]
        }
      ]
    },
    {
      "cell_type": "markdown",
      "source": [
        "---\n",
        "Normal instruction"
      ],
      "metadata": {
        "id": "1jVGZaPuMkvs"
      }
    },
    {
      "cell_type": "code",
      "source": [
        "import os\n",
        "from torch import manual_seed\n",
        "\n",
        "\n",
        "prompt = \"\"\"### Instruction:\n",
        "{}\n",
        "\n",
        "### Response:\"\"\"\n",
        "\n",
        "instruction = \"\\u5199\\u4E00\\u5C01\\u6C42\\u804C\\u4FE1\" #@param {type:\"string\"}\n",
        "input = \"\" #@param {type:\"string\"}\n",
        "\n",
        "if input=='':\n",
        "    prompt = prompt.format(instruction)\n",
        "else:\n",
        "    prompt = prompt.format(\"{}\\n\\n### input:\\n{}\"\"\").format(instruction, input)\n",
        "\n",
        "inputs = tokenizer(\n",
        "    prompt,\n",
        "    return_tensors=\"pt\",\n",
        ")\n",
        "input_ids = inputs[\"input_ids\"].cuda()\n",
        "\n",
        "generation_config = GenerationConfig(\n",
        "    do_sample=True #@param {type:\"boolean\"}\n",
        "    ,temperature=0.5 #@param {type:\"number\"}\n",
        "    ,top_p=0.75 #@param {type:\"number\"}\n",
        "    ,top_k=45 #@param {type:\"number\"}\n",
        "    # ,num_beams=1 #@param {type:\"number\"}\n",
        "    ,repetition_penalty=1.05 #@param {type:\"number\"}\n",
        "    # ,length_penalty=-0.25 #@param {type:\"number\"}\n",
        ")\n",
        "\n",
        "seed = -1 #@param {type:\"integer\"}\n",
        "if seed == -1:\n",
        "    seed = int.from_bytes(os.urandom(4), 'big')\n",
        "manual_seed(seed)\n",
        "print(f\"Generating... Seed: {seed}\")\n",
        "print('='*40)\n",
        "print('Instruction:')\n",
        "print(instruction)\n",
        "\n",
        "if input:\n",
        "    print('\\nInput:')\n",
        "    print(input)\n",
        "\n",
        "generation_output = model.generate(\n",
        "    input_ids=input_ids,\n",
        "    generation_config=generation_config,\n",
        "    return_dict_in_generate=True,\n",
        "    output_scores=True\n",
        "    ,max_new_tokens=512 #@param {type:\"integer\"}\n",
        ")\n",
        "\n",
        "for s in generation_output.sequences:\n",
        "    result = tokenizer.decode(s).strip()\n",
        "    result = result.replace(prompt, '')\n",
        "    if result=='':\n",
        "        print('No output')\n",
        "        print(prompt)\n",
        "        print(result)\n",
        "        continue\n",
        "    print('\\nResponse: ', end='')\n",
        "    print(result)\n",
        "\n"
      ],
      "metadata": {
        "colab": {
          "base_uri": "https://localhost:8080/",
          "height": 499
        },
        "id": "pkZU--qvLsxB",
        "outputId": "4c9bec0b-d044-42f7-edcd-e3aa14576637",
        "cellView": "form"
      },
      "execution_count": 10,
      "outputs": [
        {
          "output_type": "display_data",
          "data": {
            "text/plain": [
              "<IPython.core.display.HTML object>"
            ],
            "text/html": [
              "\n",
              "  <style>\n",
              "    pre {\n",
              "        white-space: pre-wrap;\n",
              "    }\n",
              "  </style>\n",
              "  "
            ]
          },
          "metadata": {}
        },
        {
          "output_type": "display_data",
          "data": {
            "text/plain": [
              "<IPython.core.display.Javascript object>"
            ],
            "application/javascript": [
              "\n",
              "  for (rule of document.styleSheets[0].cssRules){\n",
              "    if (rule.selectorText=='body') {\n",
              "      rule.style.fontSize = '22px'\n",
              "      break\n",
              "    }\n",
              "  }\n",
              "  "
            ]
          },
          "metadata": {}
        },
        {
          "output_type": "stream",
          "name": "stdout",
          "text": [
            "Generating... Seed: 2818932291\n",
            "========================================\n",
            "Instruction:\n",
            "写一封求职信\n",
            "\n",
            "Response: \n",
            "尊敬的招聘经理，\n",
            "\n",
            "我是一名有着丰富经验和成就的专业人士，对于您公司的职位招聘而言，我非常感兴趣。我在过去多年里在相关行业中取得了很多成功，并且在这个行业中具有深厚的知识和技能。\n",
            "\n",
            "我认为我具有所需的技能和能力，并且擅长在各种不同的环境中实现出色。我的工作经验包括市场营销、品牌管理、客户服务等等。我曾在跨国公司担任过高级管理职位，并且在这些职位中表现出色。\n",
            "\n",
            "我相信我是您公司需要的一员，并且我具有很好的沟通能力和团队合作能力。我也具有良好的沟通技巧和领导能力，能够协调和齐全团队。\n",
            "\n",
            "我希望能够让您公司的业务进一步发展，并且为公司提供出色的服务。我相信我可以为您公司带来巨大的成功。\n",
            "\n",
            "谢谢您对此的关注。如果您有任何问题或需要更多信息，请随时联系我。\n",
            "\n",
            "谢谢！\n",
            "\n",
            "祝您好运！\n",
            "\n",
            "荣致！\n",
            "\n",
            "张三\n"
          ]
        }
      ]
    },
    {
      "cell_type": "code",
      "source": [
        "def quicksort(arr):\n",
        "    if len(arr) <= 1:\n",
        "        return arr\n",
        "    pivot = arr[0]\n",
        "    left = [x for x in arr[1:] if x < pivot]\n",
        "    middle = [x for x in arr[1:] if x == pivot]\n",
        "    right = [x for x in arr[1:] if x > pivot]\n",
        "    return quicksort(left) + middle + quicksort(right)"
      ],
      "metadata": {
        "id": "i4t50j3haiOZ",
        "outputId": "e9326348-3e6d-4b42-c754-cd06d15ba61c",
        "colab": {
          "base_uri": "https://localhost:8080/",
          "height": 17
        }
      },
      "execution_count": 8,
      "outputs": [
        {
          "output_type": "display_data",
          "data": {
            "text/plain": [
              "<IPython.core.display.HTML object>"
            ],
            "text/html": [
              "\n",
              "  <style>\n",
              "    pre {\n",
              "        white-space: pre-wrap;\n",
              "    }\n",
              "  </style>\n",
              "  "
            ]
          },
          "metadata": {}
        },
        {
          "output_type": "display_data",
          "data": {
            "text/plain": [
              "<IPython.core.display.Javascript object>"
            ],
            "application/javascript": [
              "\n",
              "  for (rule of document.styleSheets[0].cssRules){\n",
              "    if (rule.selectorText=='body') {\n",
              "      rule.style.fontSize = '22px'\n",
              "      break\n",
              "    }\n",
              "  }\n",
              "  "
            ]
          },
          "metadata": {}
        }
      ]
    },
    {
      "cell_type": "code",
      "source": [
        "quicksort([1,2,3,0])"
      ],
      "metadata": {
        "id": "sSNZ-UQ3c06y",
        "outputId": "420a7dcb-ee5b-4268-ff1b-b3a4f8be9b06",
        "colab": {
          "base_uri": "https://localhost:8080/",
          "height": 35
        }
      },
      "execution_count": 9,
      "outputs": [
        {
          "output_type": "display_data",
          "data": {
            "text/plain": [
              "<IPython.core.display.HTML object>"
            ],
            "text/html": [
              "\n",
              "  <style>\n",
              "    pre {\n",
              "        white-space: pre-wrap;\n",
              "    }\n",
              "  </style>\n",
              "  "
            ]
          },
          "metadata": {}
        },
        {
          "output_type": "display_data",
          "data": {
            "text/plain": [
              "<IPython.core.display.Javascript object>"
            ],
            "application/javascript": [
              "\n",
              "  for (rule of document.styleSheets[0].cssRules){\n",
              "    if (rule.selectorText=='body') {\n",
              "      rule.style.fontSize = '22px'\n",
              "      break\n",
              "    }\n",
              "  }\n",
              "  "
            ]
          },
          "metadata": {}
        },
        {
          "output_type": "execute_result",
          "data": {
            "text/plain": [
              "[0, 3]"
            ]
          },
          "metadata": {},
          "execution_count": 9
        }
      ]
    },
    {
      "cell_type": "code",
      "source": [],
      "metadata": {
        "id": "KcYULoq7c3cE"
      },
      "execution_count": 9,
      "outputs": []
    }
  ]
}